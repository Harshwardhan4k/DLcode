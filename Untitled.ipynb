{
 "cells": [
  {
   "cell_type": "code",
   "execution_count": 46,
   "id": "3857b4c4",
   "metadata": {},
   "outputs": [],
   "source": [
    "import pandas as pd\n",
    "import matplotlib.pyplot as plt\n",
    "import tensorflow as tf\n",
    "import numpy as np\n",
    "from sklearn.model_selection import train_test_split\n",
    "from sklearn.preprocessing import StandardScaler\n",
    "from sklearn.metrics import accuracy_score, precision_score, confusion_matrix, recall_score"
   ]
  },
  {
   "cell_type": "code",
   "execution_count": 47,
   "id": "243f27ad",
   "metadata": {},
   "outputs": [],
   "source": [
    "dataset=pd.read_csv(\"D:\\AIT\\SEM7\\DL\\PRAC\\creditcard.csv\")"
   ]
  },
  {
   "cell_type": "code",
   "execution_count": 55,
   "id": "e7f52562",
   "metadata": {},
   "outputs": [
    {
     "name": "stdout",
     "output_type": "stream",
     "text": [
      "Any null value False\n",
      "unique Labels 2\n",
      "labels [0 1]\n",
      "count 0    284315\n",
      "1       492\n",
      "Name: Class, dtype: int64\n"
     ]
    }
   ],
   "source": [
    "print(\"Any null value\", dataset.isnull().values.any())\n",
    "print(\"unique Labels\", len(dataset['Class'].unique()))\n",
    "print(\"labels\",dataset.Class.unique())\n",
    "print(\"count\",pd.value_counts(dataset['Class'],sort=True))"
   ]
  },
  {
   "cell_type": "code",
   "execution_count": 59,
   "id": "a509692d",
   "metadata": {},
   "outputs": [
    {
     "data": {
      "text/plain": [
       "Text(0.5, 1.0, 'Frequency observation of Number')"
      ]
     },
     "execution_count": 59,
     "metadata": {},
     "output_type": "execute_result"
    },
    {
     "data": {
      "image/png": "[encoded data removed]",
      "text/plain": [
       "<Figure size 432x288 with 1 Axes>"
      ]
     },
     "metadata": {
      "needs_background": "light"
     },
     "output_type": "display_data"
    }
   ],
   "source": [
    "count_values=pd.value_counts(dataset['Class'],sort=True)\n",
    "count_values.plot(kind='bar',rot=0)\n",
    "plt.xlabel(\"Class\")\n",
    "plt.ylabel(\"Number of Obseravtions\")\n",
    "plt.title(\"Frequency observation of Number\")"
   ]
  },
  {
   "cell_type": "code",
   "execution_count": 61,
   "id": "bb361024",
   "metadata": {},
   "outputs": [],
   "source": [
    "normal_dataset=dataset[dataset.Class==0]\n",
    "fraud_dataset=dataset[dataset.Class==1]"
   ]
  },
  {
   "cell_type": "code",
   "execution_count": 69,
   "id": "0a2f2b46",
   "metadata": {},
   "outputs": [
    {
     "data": {
      "image/png": "[encoded data removed]",
      "text/plain": [
       "<Figure size 432x288 with 1 Axes>"
      ]
     },
     "metadata": {
      "needs_background": "light"
     },
     "output_type": "display_data"
    }
   ],
   "source": [
    "bins=np.linspace(200,2500,100)\n",
    "plt.hist(normal_dataset.Amount,bins=bins,density=True,alpha=1,label='Normal')\n",
    "plt.hist(fraud_dataset.Amount,bins=bins,density=True,alpha=0.5,label='Normal')\n",
    "plt.show\n",
    "plt.legend(loc='upper right')\n",
    "plt.title('Transaction amount vs percentage of Transaction')\n",
    "plt.xlabel(\"Transaction amount (USD)\")\n",
    "plt.ylabel(\"Percentage of transactions\")\n",
    "plt.show()"
   ]
  },
  {
   "cell_type": "code",
   "execution_count": 71,
   "id": "9d5efa7c",
   "metadata": {},
   "outputs": [],
   "source": [
    "sc=StandardScaler()\n",
    "dataset['Amount']=sc.fit_transform(dataset['Amount'].values.reshape(-1,1))"
   ]
  },
  {
   "cell_type": "code",
   "execution_count": 72,
   "id": "a2c4433d",
   "metadata": {},
   "outputs": [],
   "source": [
    "RANDOM_SEED=2021\n",
    "TEST_PCT=0.3\n",
    "LABELS=['Normal','Fraud']"
   ]
  },
  {
   "cell_type": "code",
   "execution_count": 78,
   "id": "c94a7bac",
   "metadata": {},
   "outputs": [],
   "source": [
    "x_train,x_test=train_test_split(dataset,test_size=TEST_PCT,random_state=RANDOM_SEED)\n",
    "x_train=x_train[x_train.Class==0]\n",
    "x_train=x_train.drop(['Class'],axis=1)\n",
    "y_test=x_test['Class']\n",
    "x_test=x_test.drop(['Class'],axis=1)\n",
    "\n",
    "x_train=x_train.values\n",
    "x_test=x_test.values"
   ]
  },
  {
   "cell_type": "code",
   "execution_count": 95,
   "id": "8d4a38cc",
   "metadata": {},
   "outputs": [],
   "source": [
    "input_dim=x_train.shape[1]\n",
    "encoding_dim=14\n",
    "hidden_dim_1 = int(encoding_dim/2)\n",
    "hidden_dim_2=4\n",
    "learning_rate=1e-7"
   ]
  },
  {
   "cell_type": "code",
   "execution_count": 96,
   "id": "d4a65ac2",
   "metadata": {},
   "outputs": [
    {
     "name": "stdout",
     "output_type": "stream",
     "text": [
      "Model: \"model_5\"\n",
      "_________________________________________________________________\n",
      " Layer (type)                Output Shape              Param #   \n",
      "=================================================================\n",
      " input_10 (InputLayer)       [(None, 30)]              0         \n",
      "                                                                 \n",
      " dense_34 (Dense)            (None, 14)                434       \n",
      "                                                                 \n",
      " dense_35 (Dense)            (None, 7)                 105       \n",
      "                                                                 \n",
      " dense_36 (Dense)            (None, 4)                 32        \n",
      "                                                                 \n",
      " dense_37 (Dense)            (None, 7)                 35        \n",
      "                                                                 \n",
      " dense_38 (Dense)            (None, 14)                112       \n",
      "                                                                 \n",
      " dense_39 (Dense)            (None, 30)                450       \n",
      "                                                                 \n",
      "=================================================================\n",
      "Total params: 1,168\n",
      "Trainable params: 1,168\n",
      "Non-trainable params: 0\n",
      "_________________________________________________________________\n"
     ]
    }
   ],
   "source": [
    "input_layer=tf.keras.layers.Input(shape=(input_dim))\n",
    "\n",
    "encoder=tf.keras.layers.Dense(encoding_dim,activity_regularizer=tf.keras.regularizers.l2(learning_rate))(input_layer)\n",
    "encoder=tf.keras.layers.Dense(hidden_dim_1,activation='relu')(encoder)\n",
    "encoder=tf.keras.layers.Dense(hidden_dim_2,activation=tf.nn.leaky_relu)(encoder)\n",
    "\n",
    "decoder=tf.keras.layers.Dense(hidden_dim_1,activation='relu')(encoder)\n",
    "decoder=tf.keras.layers.Dense(encoding_dim,activation='relu')(decoder)\n",
    "decoder=tf.keras.layers.Dense(input_dim,activation='tanh')(decoder)\n",
    "\n",
    "autoencoder=tf.keras.Model(inputs=input_layer,outputs=decoder)\n",
    "autoencoder.summary()"
   ]
  },
  {
   "cell_type": "code",
   "execution_count": 97,
   "id": "36d777df",
   "metadata": {},
   "outputs": [],
   "source": [
    "autoencoder.compile(metrics=['accuracy'],\n",
    "                   loss='mean_squared_error',\n",
    "                   optimizer='adam')"
   ]
  },
  {
   "cell_type": "code",
   "execution_count": 98,
   "id": "f7e77e96",
   "metadata": {},
   "outputs": [
    {
     "name": "stdout",
     "output_type": "stream",
     "text": [
      "6220/6220 [==============================] - 8s 1ms/step - loss: 374954176.0000 - accuracy: 0.9254 - val_loss: 374854688.0000 - val_accuracy: 1.0000\n"
     ]
    }
   ],
   "source": [
    "history = autoencoder.fit(x_train,x_train,validation_data=(x_test,x_test),epochs=1)                   \n",
    "                    \n",
    "                        \n",
    "                         "
   ]
  },
  {
   "cell_type": "code",
   "execution_count": 100,
   "id": "93dd06ce",
   "metadata": {},
   "outputs": [
    {
     "name": "stdout",
     "output_type": "stream",
     "text": [
      "2671/2671 [==============================] - 2s 677us/step\n"
     ]
    }
   ],
   "source": [
    "y_pred = autoencoder.predict(x_test)\n",
    "mse = np.mean(np.power(x_test - y_pred, 2), axis=1)"
   ]
  },
  {
   "cell_type": "code",
   "execution_count": 102,
   "id": "58c20e69",
   "metadata": {},
   "outputs": [],
   "source": [
    "thresholds=0.5 \n",
    "anomalies = mse > thresholds"
   ]
  },
  {
   "cell_type": "code",
   "execution_count": 106,
   "id": "3f7e4666",
   "metadata": {},
   "outputs": [
    {
     "name": "stdout",
     "output_type": "stream",
     "text": [
      "Threshold: 0.5, Number of anomalies: 85442\n"
     ]
    }
   ],
   "source": [
    "num_anomalies = np.sum(anomalies)\n",
    "print(f\"Threshold: {thresholds:.1f}, Number of anomalies: {num_anomalies}\")\n",
    "from sklearn.metrics import confusion_matrix, classification_report"
   ]
  },
  {
   "cell_type": "code",
   "execution_count": 107,
   "id": "4a7b6694",
   "metadata": {},
   "outputs": [
    {
     "name": "stdout",
     "output_type": "stream",
     "text": [
      "Confusion Matrix:\n",
      "[[    1 85300]\n",
      " [    0   142]]\n",
      "\n",
      "Classification Report:\n",
      "              precision    recall  f1-score   support\n",
      "\n",
      "           0       1.00      0.00      0.00     85301\n",
      "           1       0.00      1.00      0.00       142\n",
      "\n",
      "    accuracy                           0.00     85443\n",
      "   macro avg       0.50      0.50      0.00     85443\n",
      "weighted avg       1.00      0.00      0.00     85443\n",
      "\n"
     ]
    }
   ],
   "source": [
    "print(\"Confusion Matrix:\")\n",
    "print(confusion_matrix(y_test, anomalies))\n",
    "\n",
    "print(\"\\nClassification Report:\")\n",
    "print(classification_report(y_test, anomalies))"
   ]
  },
  {
   "cell_type": "code",
   "execution_count": null,
   "id": "18c90a11",
   "metadata": {},
   "outputs": [],
   "source": []
  }
 ],
 "metadata": {
  "kernelspec": {
   "display_name": "Python 3 (ipykernel)",
   "language": "python",
   "name": "python3"
  },
  "language_info": {
   "codemirror_mode": {
    "name": "ipython",
    "version": 3
   },
   "file_extension": ".py",
   "mimetype": "text/x-python",
   "name": "python",
   "nbconvert_exporter": "python",
   "pygments_lexer": "ipython3",
   "version": "3.9.12"
  }
 },
 "nbformat": 4,
 "nbformat_minor": 5
}
